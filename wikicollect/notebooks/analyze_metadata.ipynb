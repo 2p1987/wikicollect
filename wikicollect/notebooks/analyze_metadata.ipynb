{
 "cells": [
  {
   "cell_type": "markdown",
   "metadata": {},
   "source": [
    "# Analyze metadata\n",
    "\n",
    "The goal of this notebook is to analyze the available metadata:\n",
    "- how many words and articles are available by search terms?\n",
    "- how many once the blacklist has been applied\n",
    "- how many after deduplication between search terms"
   ]
  },
  {
   "cell_type": "code",
   "execution_count": 1,
   "metadata": {},
   "outputs": [
    {
     "data": {
      "text/plain": [
       "<module 'wikicollect.src.utils' from '/Users/pierre/Documents/Workspace.nosync/general_projects/wikicollect/wikicollect/src/utils.py'>"
      ]
     },
     "execution_count": 1,
     "metadata": {},
     "output_type": "execute_result"
    }
   ],
   "source": [
    "import os\n",
    "from pathlib import Path\n",
    "from importlib import reload\n",
    "from wikicollect.src import utils as ut\n",
    "reload(ut)"
   ]
  },
  {
   "cell_type": "markdown",
   "metadata": {},
   "source": [
    "#### Parameters"
   ]
  },
  {
   "cell_type": "code",
   "execution_count": 4,
   "metadata": {},
   "outputs": [],
   "source": [
    "os.chdir(ut.find_repo_root())\n",
    "metadata_folder = Path(\"wikicollect/data/metadata\")\n",
    "searches_folder = Path(metadata_folder, \"searches\")"
   ]
  },
  {
   "cell_type": "markdown",
   "metadata": {},
   "source": [
    "#### Metadata loading"
   ]
  },
  {
   "cell_type": "code",
   "execution_count": 28,
   "metadata": {},
   "outputs": [],
   "source": [
    "# get all metadata files available in metadata folder\n",
    "searches_paths = [file for file in searches_folder.glob(\"*.yaml\")] \n",
    "# load each one of them \n",
    "searches_results = [{search_result.parts[-1].replace(\".yaml\", \"\"): ut.load_yaml(search_result)} for search_result in searches_paths]\n",
    "# get blacklist\n",
    "blacklist = ut.load_yaml(Path(metadata_folder, \"page_blacklist.yaml\"))"
   ]
  },
  {
   "cell_type": "markdown",
   "metadata": {},
   "source": [
    "#### Simple stats"
   ]
  },
  {
   "cell_type": "code",
   "execution_count": 57,
   "metadata": {},
   "outputs": [
    {
     "name": "stdout",
     "output_type": "stream",
     "text": [
      "We currently have 1 search term(s).\n",
      "\n",
      "=======================climate_change=======================\n",
      "    > Number of search results: 500\n",
      "    > Number of total words:  2,982,003\n",
      "    > Number of blacklisted pages: 121\n",
      "    > Number of total of non blacklisted words: 2,163,089\n",
      "    > Ratio of non-black listed words to total:  72.54%\n"
     ]
    }
   ],
   "source": [
    "print(f\"We currently have {len(searches_results)} search term(s).\\n\")\n",
    "for search_results in searches_results:\n",
    "    search_term = list(searches_results[0].keys())[0]\n",
    "    print(f\"{search_term:=^60}\")\n",
    "    print(f\"    > Number of search results: {len(search_results[search_term])}\")\n",
    "    total_words = sum([result[\"word_count\"] for result in search_results[search_term]])\n",
    "    print(f\"    > Number of total words: {total_words: ,}\")\n",
    "    total_words_not_blacklisted = sum([result[\"word_count\"] for result in search_results[search_term] if result[\"page_name\"] not in blacklist[search_term]])\n",
    "    print(f\"    > Number of blacklisted pages: {len(blacklist[search_term])}\")\n",
    "    print(f\"    > Number of total of non blacklisted words: {total_words_not_blacklisted:,}\")\n",
    "    print(f\"    > Ratio of non-black listed words to total: {total_words_not_blacklisted / total_words: .2%}\")"
   ]
  },
  {
   "cell_type": "markdown",
   "metadata": {},
   "source": [
    "### Deduplication"
   ]
  },
  {
   "cell_type": "code",
   "execution_count": 43,
   "metadata": {},
   "outputs": [],
   "source": [
    "#TODO: when we will have several search terms, add a deduplication step between page_ids."
   ]
  },
  {
   "cell_type": "markdown",
   "metadata": {},
   "source": []
  }
 ],
 "metadata": {
  "kernelspec": {
   "display_name": "wikicollect",
   "language": "python",
   "name": "python3"
  },
  "language_info": {
   "codemirror_mode": {
    "name": "ipython",
    "version": 3
   },
   "file_extension": ".py",
   "mimetype": "text/x-python",
   "name": "python",
   "nbconvert_exporter": "python",
   "pygments_lexer": "ipython3",
   "version": "3.11.6"
  }
 },
 "nbformat": 4,
 "nbformat_minor": 2
}
